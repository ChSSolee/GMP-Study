{
 "cells": [
  {
   "attachments": {},
   "cell_type": "markdown",
   "id": "1c22b20d",
   "metadata": {
    "vscode": {
     "languageId": "plaintext"
    }
   },
   "source": [
    "# 04. GTM\n",
    "\n",
    "<br>\n",
    "\n",
    "##  GTM (Google Tag Manager)\n",
    "- GTM(Google Tag Manager)은 웹사이트 혹은 앱에서 코드 및 태그라고 통칭되는 관련 코드들을 쉽고 빠르게 업데이트할 수 있는 태그 관리 시스템\n",
    "- GA 태그, 광고 픽셀(페이스북, 카카오) 등의 태그를 넓은 범위로 관리하며 사용자의 행동을 추적\n",
    "  \n",
    "- GA4를 활용해 웹사이트에 방문한 사용자의 이벤트 데이터를 수집하려면 GTM 활용이 권장\n",
    "\n",
    "<br>\n",
    "\n",
    "#### **스크립트 관리 용이**\n",
    "- 웹사이트 코드에는 이 GA4 추적 코드만 삽입하는 것이 아니라 다양한 광고 픽셀 및 코드를 삽입 가능\n",
    "  \n",
    "    $\\rightarrow$ 여러 코드를 웹사이트에 삽입하게 되면 결국 스크립트 충돌 문제가 발생할 수 있음 \n",
    "    \n",
    "    $\\rightarrow$  GTM을 사용하면 이러한 문제를 방지 가능\n",
    "\n",
    "<br>\n",
    "\n",
    "#### **데이터 수집 및 관리를 위한 리소스 최적화**\n",
    "- 다양한 웹사이트를 관리할 때, 플랫폼별 코드를 모두 GA4 스크립트에 설치하는 작업을 진행하게 된다면\n",
    "    $\\rightarrow$ 새로운 스크립트가 추가될 때마다 내부 개발자에게 설치를 요청해야 하고, 코드를 관리하는 것 또한 복잡해짐. \n",
    "    \n",
    "    $\\rightarrow$ GTM을 사용하면 데이터 수집 및 관리를 위한 리소스를 줄일 수 있으며, \n",
    "        \n",
    "    $\\rightarrow$ GA4 관련 추적 코드 및 이벤트 수집을 위한 자바스크립트 함수를 매번 웹사이트에서 직접 삽입할 필요가 없고, 모든 코드를 한 번에 관리할 수 있음\n",
    "\n",
    "<br>\n",
    "\n"
   ]
  },
  {
   "attachments": {},
   "cell_type": "markdown",
   "id": "c1643026",
   "metadata": {},
   "source": [
    "### GTM 구성 요소\n",
    "\n",
    "<br>\n",
    "\n",
    "#### 태그\n",
    "- **태그는 데이터를 수집해 외부로 전달하는 역할**\n",
    "- 태그를 통해 어떤 데이터를 전달할 것인지 정의하기 때문에 데이터에 대한 ‘이름표’ \n",
    "  \n",
    "<img src=\"https://framerusercontent.com/images/9l0OMCEE4c7mcxqvRosylq9Rzs.jpg?scale-down-to=2048\" width=\"500\">\n",
    "\n",
    "<br>\n",
    "\n",
    "#### 트리거\n",
    "- **트리거는 태그를 실행시키는 조건으로, 태그가 언제 어떤 상황에서 실행되어야 하는지를 정의**\n",
    "- 클릭, 페이지뷰 등 특정 이벤트를 수신하며, 트리거만 단독으로 생성하면 데이터 전달이 불가능\n",
    "\n",
    "<img src=\"https://framerusercontent.com/images/YyipfQxHTHzAh3U1gqljZSRHg.jpg?scale-down-to=2048\" width=\"500\">\n",
    "\n",
    "<br>\n",
    "\n",
    "#### 변수\n",
    "- **변수는 태그와 트리거에 사용되는 추가적인 정보를 의미**\n",
    "- 특정 버튼에 페이지URL 등의 정보를 넣을 수 있음\n",
    "\n",
    "    <img src=\"https://framerusercontent.com/images/Hx4eOXEpRmLAFjvAKFmhscvjyc.jpg?scale-down-to=2048\" width=\"500\">"
   ]
  },
  {
   "attachments": {},
   "cell_type": "markdown",
   "id": "e9213baf",
   "metadata": {},
   "source": [
    "<br>\n",
    "\n",
    "<img src='image/GTM/040101.png' width=500>\n",
    "\n",
    "<img src='image/GTM/040102.png' width=500>\n"
   ]
  },
  {
   "cell_type": "markdown",
   "id": "379868cd",
   "metadata": {},
   "source": [
    "<br>\n",
    "\n",
    "### GA4 필수 설정 항목 3가지\n",
    "1. 주요 이벤트 설정\n",
    "2. 원치 않는 추천 제외\n",
    "3. 데이터 보관 기간 설정\n",
    "\n",
    "<br>\n"
   ]
  },
  {
   "attachments": {},
   "cell_type": "markdown",
   "id": "5af2dda9",
   "metadata": {
    "vscode": {
     "languageId": "plaintext"
    }
   },
   "source": [
    "<hr>\n",
    "\n",
    "<br>\n",
    "\n",
    "### 01. Google Analytics 및 Google Tag Manager 컨테이너 생성\n",
    "\n",
    "<br>\n",
    "\n",
    "#### Google Analytics \n",
    "- 데이터 보관 14개월 설정\n",
    "- GA 제품링크 $\\rightarrow$ GCP BigQuery 연결\n",
    "\n",
    "<br>\n",
    "\n",
    "#### Google Tag Manager\n",
    "\n",
    "- 컨테이너 생성 후 스크립트 삽입 $\\rightarrow$ 웹 재배포\n",
    "\n",
    "\n",
    "<br>\n",
    "\n",
    "<hr>\n",
    "\n",
    "<br>\n",
    "\n",
    "\n",
    "### 02. Google Analytics 연동\n",
    "\n",
    "<br>\n",
    "\n",
    "#### 구글 태그 매니저 태그 생성\n",
    "- **구글 태그 : 구글 태그는 여러개의 구글 애널리틱스, 플러드 라이트 등 구글의 여러 제품에 한번에 데이터를 전송하는 역할**\n",
    "- **구글 태그와 GA4 이벤트 태그를 사용하면, 이벤트 파라미터를 이전보다 훨씬 간소화된 방식으로 재사용 가능**\n",
    "\n",
    "<br>\n",
    "\n",
    "- 태그 $\\rightarrow$ 새로 만들기 $\\rightarrow$ 태그 유형 : 'Google 애널리틱스' - 'Google 태그' $\\rightarrow$ 태그 ID : 상수 (GA4 측정 ID 입력)\n",
    "    \n",
    "<br>\n",
    "<img src =\"https://community.heartcount.io/ko/content/images/size/w1000/2024/04/18.jpeg\" width = \"500\">\n",
    "  \n",
    "<img src = \"https://community.heartcount.io/ko/content/images/2024/04/20.png\" width=\"500\">\n",
    "\n",
    "<br>\n",
    "\n",
    "<img src=\"https://community.heartcount.io/ko/content/images/size/w1000/2024/04/21.png\" width=\"500\">\n",
    "\n",
    "<img src=\"https://community.heartcount.io/ko/content/images/2024/04/23.jpeg\" width=\"500\">\n",
    "\n",
    "* 트리거 : 'All Pages' - **모든 페이지에서 태그가 실행된다는 의미**\n",
    "  \n",
    "<img src=\"image/GTM/040103.png\" width=\"500\">\n"
   ]
  },
  {
   "attachments": {},
   "cell_type": "markdown",
   "id": "a3745ce6",
   "metadata": {
    "vscode": {
     "languageId": "plaintext"
    }
   },
   "source": [
    "<br>\n",
    "\n",
    "#### GTM - GA 연결 확인\n",
    "- in GTM:\n",
    "    \n",
    "<img src =\"https://community.heartcount.io/ko/content/images/size/w1000/2024/04/30.png\" width=\"500\">\n",
    "\n",
    "- in GA : \n",
    "    \n",
    "<img src=\"https://community.heartcount.io/ko/content/images/2024/04/31.png\" width=\"500\">\n",
    "\n",
    "<img src=\"https://community.heartcount.io/ko/content/images/2024/04/32.png\" width=\"500\">\n",
    "\n",
    "<br>\n",
    "\n",
    "### 구성 설정과 공유된 이벤트 설정\n",
    "\n",
    "<br>\n",
    "\n",
    "#### 1. 구성 설정\n",
    "- `[없음]` 이라고 된 부분을 클릭하여, `[새 변수]`를 클릭합니다. 그 후, 태그 이름 설정 (예:  `[GT Config Setting]`)\n",
    "\n",
    "<img src='https://lh7-us.googleusercontent.com/xYEEfteCNtnC_GyIxHOrQN5y_Pe6OfpDFdnU6IJ4-Ye1jz3RClels-W0EHIyN8JpJ5dm7KIX9O3GpKGXE151Drsf3gBhHBXUDWLTP0bQZbrKlBY_huYQRC1-_3rVxV8oudhqi5MRBNdlQlzliPKpycw' width='500'>\n",
    "\n",
    "<img src='https://lh7-us.googleusercontent.com/XE6AUNg5l2dogWxv1koaQwUaTi_Hm6MoY30K5cUggluGH_Oqijlzc6Nz0L2qAjFlD2kBnDbMC2C-neUiBqTp6Bwb8c4NjIs4JONkcH-Aa-IcL3834s2Hmie9XT7xzBaw35xpAQrCOcLiDDlukuY0lYs' width='500'>\n",
    "\n",
    "\n",
    "- `[상속된 매개변수 표시]`를 클릭 $\\rightarrow$ 매개변수를 추후에 다른 태그에 삽입할때, 거기에 상속된 매개변수까지 자동으로 가지고오면서, 재사용 가능\n",
    "\n",
    "<img src='https://lh7-us.googleusercontent.com/wQG0aA4VMwMphKN3jRVON3tCUwzlQXg9F14f1lYiOO_SzL6ytRwZZni5u9n0Sq9UlTsx9JP_s5tfI8UZznkd9F4u8iB97jAk1tboJhT0sXl-hxgP2iXj3Wl3bEZmMhYJLwFRwSfpyQ8f3E7zF9inE1k' width='500'>\n",
    "\n",
    "<br>\n",
    "\n",
    "#### 2. 공유된 이벤트 설정\n",
    "- 이전에는 모든 이벤트들마다 각각의 매개변수를 지정해줬어야한다면, 이제는 이벤트들간 함께 사용하는 매개변수를 아주 손쉽게 넘나들며 공유\n",
    "\n",
    "\n",
    "<img src='https://lh7-us.googleusercontent.com/RQ4mvqNIUpDYINbhU8ijRMORXvpnjYb1rKGphdOrDGFW4iobOZbsyc25MiEbdDqPr5-OBTeN_gc-eBRWa4Ky1YtNS1Adw5LfSeovOvEmIgVn_P1N4FN9iF_sLAmEMoqimhrH5WvDqAa2Ic2qGYVwRyE' width='500'>\n",
    "\n",
    "\n",
    "- `[공유된 이벤트 설정]` 메뉴를 눌러, `[새 변수]` 생성\n",
    "\n",
    "<img src='https://lh7-us.googleusercontent.com/3Bp-PibqOwE3PQ5VcBpHnCGXSPVE_ikV_-_rGF6wbIwKagydDViv--vD6tsxxQjZkMflExlIkhUeun0mq36e1d53wlyZd3dgr8UwL1voS9mnK4x9j62kom2jRZ7qwhta3-CIITBx73PRITG3biPMloA' width='500'>\n",
    "\n",
    "<img src='https://lh7-us.googleusercontent.com/yL3NcND6xhEtg7KBcAv63e3iExvIr5OsUepfjQ1fGyog9hWtyZF50ss01DeBUiIgtWdFInycOLyTDUGYC7skAp5wzuLQXquaWcx-zlWZiDMblqyAjqw_iATsfq0sSf_jKtYKXkYU3z_RRB3bp2j-cJs' width='500'>\n",
    "\n",
    "<br>\n",
    "\n",
    "<hr>\n"
   ]
  }
 ],
 "metadata": {
  "kernelspec": {
   "display_name": "base",
   "language": "python",
   "name": "python3"
  },
  "language_info": {
   "name": "python",
   "version": "3.9.13 (main, Aug 25 2022, 23:51:50) [MSC v.1916 64 bit (AMD64)]"
  },
  "vscode": {
   "interpreter": {
    "hash": "4b706aa2a79e366c60124db94f01b3cedaedac5a5e6fe3d90b795091a1fcd54b"
   }
  }
 },
 "nbformat": 4,
 "nbformat_minor": 5
}
